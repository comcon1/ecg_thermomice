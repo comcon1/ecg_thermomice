{
 "cells": [
  {
   "cell_type": "code",
   "execution_count": 11,
   "id": "391b2ed6-dd67-4cac-98ce-e92bc2b53b67",
   "metadata": {},
   "outputs": [],
   "source": [
    "%matplotlib inline\n",
    "import matplotlib.pyplot as plt\n",
    "import pandas as pd\n",
    "import numpy as np\n",
    "import seaborn as sns\n",
    "from ecgfuns import *\n",
    "from tqdm import tqdm\n",
    "# simple lambda-comprehension\n",
    "remove_nans = lambda x: [i for i in x if not pd.isna(i)]"
   ]
  },
  {
   "cell_type": "code",
   "execution_count": 2,
   "id": "385401aa-0265-49b2-aeba-849536381eac",
   "metadata": {},
   "outputs": [],
   "source": [
    "import sys\n",
    "sys.path.append('./py-bwr/')\n",
    "import bwr"
   ]
  },
  {
   "cell_type": "markdown",
   "id": "bf2b898a-8740-4019-8237-f20b5471e663",
   "metadata": {},
   "source": [
    "# Sample 122\n",
    "**the same as in `ecg-commented.ipynb`**"
   ]
  },
  {
   "cell_type": "code",
   "execution_count": 3,
   "id": "b85ea86e-6fee-4021-87a3-55365fb2b0fa",
   "metadata": {},
   "outputs": [
    {
     "data": {
      "text/html": [
       "<div>\n",
       "<style scoped>\n",
       "    .dataframe tbody tr th:only-of-type {\n",
       "        vertical-align: middle;\n",
       "    }\n",
       "\n",
       "    .dataframe tbody tr th {\n",
       "        vertical-align: top;\n",
       "    }\n",
       "\n",
       "    .dataframe thead th {\n",
       "        text-align: right;\n",
       "    }\n",
       "</style>\n",
       "<table border=\"1\" class=\"dataframe\">\n",
       "  <thead>\n",
       "    <tr style=\"text-align: right;\">\n",
       "      <th></th>\n",
       "      <th>Time_s</th>\n",
       "      <th>Laser_V</th>\n",
       "      <th>ECG_ch1</th>\n",
       "      <th>Las_peaks</th>\n",
       "      <th>ECG_peaks</th>\n",
       "    </tr>\n",
       "  </thead>\n",
       "  <tbody>\n",
       "    <tr>\n",
       "      <th>0</th>\n",
       "      <td>0.0000</td>\n",
       "      <td>-0.00200</td>\n",
       "      <td>0.0</td>\n",
       "      <td>NaN</td>\n",
       "      <td>NaN</td>\n",
       "    </tr>\n",
       "    <tr>\n",
       "      <th>1</th>\n",
       "      <td>0.0001</td>\n",
       "      <td>-0.00200</td>\n",
       "      <td>0.0</td>\n",
       "      <td>NaN</td>\n",
       "      <td>NaN</td>\n",
       "    </tr>\n",
       "    <tr>\n",
       "      <th>2</th>\n",
       "      <td>0.0002</td>\n",
       "      <td>-0.00157</td>\n",
       "      <td>0.0</td>\n",
       "      <td>NaN</td>\n",
       "      <td>NaN</td>\n",
       "    </tr>\n",
       "    <tr>\n",
       "      <th>3</th>\n",
       "      <td>0.0003</td>\n",
       "      <td>-0.00157</td>\n",
       "      <td>0.0</td>\n",
       "      <td>NaN</td>\n",
       "      <td>NaN</td>\n",
       "    </tr>\n",
       "    <tr>\n",
       "      <th>4</th>\n",
       "      <td>0.0004</td>\n",
       "      <td>-0.00242</td>\n",
       "      <td>0.0</td>\n",
       "      <td>NaN</td>\n",
       "      <td>NaN</td>\n",
       "    </tr>\n",
       "  </tbody>\n",
       "</table>\n",
       "</div>"
      ],
      "text/plain": [
       "   Time_s  Laser_V  ECG_ch1  Las_peaks  ECG_peaks\n",
       "0  0.0000 -0.00200      0.0        NaN        NaN\n",
       "1  0.0001 -0.00200      0.0        NaN        NaN\n",
       "2  0.0002 -0.00157      0.0        NaN        NaN\n",
       "3  0.0003 -0.00157      0.0        NaN        NaN\n",
       "4  0.0004 -0.00242      0.0        NaN        NaN"
      ]
     },
     "execution_count": 3,
     "metadata": {},
     "output_type": "execute_result"
    }
   ],
   "source": [
    "# read the data\n",
    "a = pd.read_csv('./data/peaks_data_122.csv.gz')\n",
    "a.head()"
   ]
  },
  {
   "cell_type": "code",
   "execution_count": 4,
   "id": "8870fc00-5d25-487b-a719-f5ece5247690",
   "metadata": {},
   "outputs": [
    {
     "data": {
      "text/html": [
       "<div>\n",
       "<style scoped>\n",
       "    .dataframe tbody tr th:only-of-type {\n",
       "        vertical-align: middle;\n",
       "    }\n",
       "\n",
       "    .dataframe tbody tr th {\n",
       "        vertical-align: top;\n",
       "    }\n",
       "\n",
       "    .dataframe thead th {\n",
       "        text-align: right;\n",
       "    }\n",
       "</style>\n",
       "<table border=\"1\" class=\"dataframe\">\n",
       "  <thead>\n",
       "    <tr style=\"text-align: right;\">\n",
       "      <th></th>\n",
       "      <th>Time_s</th>\n",
       "      <th>Laser_V</th>\n",
       "      <th>ECG_ch1</th>\n",
       "      <th>Las_peaks</th>\n",
       "      <th>ECG_peaks</th>\n",
       "      <th>ch1_bc</th>\n",
       "    </tr>\n",
       "  </thead>\n",
       "  <tbody>\n",
       "    <tr>\n",
       "      <th>0</th>\n",
       "      <td>0.0000</td>\n",
       "      <td>-0.00200</td>\n",
       "      <td>0.0</td>\n",
       "      <td>NaN</td>\n",
       "      <td>NaN</td>\n",
       "      <td>0.009622</td>\n",
       "    </tr>\n",
       "    <tr>\n",
       "      <th>1</th>\n",
       "      <td>0.0001</td>\n",
       "      <td>-0.00200</td>\n",
       "      <td>0.0</td>\n",
       "      <td>NaN</td>\n",
       "      <td>NaN</td>\n",
       "      <td>0.009717</td>\n",
       "    </tr>\n",
       "    <tr>\n",
       "      <th>2</th>\n",
       "      <td>0.0002</td>\n",
       "      <td>-0.00157</td>\n",
       "      <td>0.0</td>\n",
       "      <td>NaN</td>\n",
       "      <td>NaN</td>\n",
       "      <td>0.009812</td>\n",
       "    </tr>\n",
       "    <tr>\n",
       "      <th>3</th>\n",
       "      <td>0.0003</td>\n",
       "      <td>-0.00157</td>\n",
       "      <td>0.0</td>\n",
       "      <td>NaN</td>\n",
       "      <td>NaN</td>\n",
       "      <td>0.009908</td>\n",
       "    </tr>\n",
       "    <tr>\n",
       "      <th>4</th>\n",
       "      <td>0.0004</td>\n",
       "      <td>-0.00242</td>\n",
       "      <td>0.0</td>\n",
       "      <td>NaN</td>\n",
       "      <td>NaN</td>\n",
       "      <td>0.010005</td>\n",
       "    </tr>\n",
       "  </tbody>\n",
       "</table>\n",
       "</div>"
      ],
      "text/plain": [
       "   Time_s  Laser_V  ECG_ch1  Las_peaks  ECG_peaks    ch1_bc\n",
       "0  0.0000 -0.00200      0.0        NaN        NaN  0.009622\n",
       "1  0.0001 -0.00200      0.0        NaN        NaN  0.009717\n",
       "2  0.0002 -0.00157      0.0        NaN        NaN  0.009812\n",
       "3  0.0003 -0.00157      0.0        NaN        NaN  0.009908\n",
       "4  0.0004 -0.00242      0.0        NaN        NaN  0.010005"
      ]
     },
     "execution_count": 4,
     "metadata": {},
     "output_type": "execute_result"
    }
   ],
   "source": [
    "# subtract baseline\n",
    "bl = bwr.calc_baseline( a.ECG_ch1.to_numpy() )\n",
    "a['ch1_bc'] = 0.00\n",
    "a.loc[:,'ch1_bc'] = a.ECG_ch1.to_numpy() - bl\n",
    "\n",
    "a.head()"
   ]
  },
  {
   "cell_type": "code",
   "execution_count": 5,
   "id": "d38201ab-f53e-4195-afbe-5475782e177f",
   "metadata": {},
   "outputs": [
    {
     "name": "stdout",
     "output_type": "stream",
     "text": [
      "Mean len of RR interval:  1999\n",
      "Mean len of RR interval:  2292\n",
      "Mean len of RR interval:  1999\n",
      "Mean len of RR interval:  2292\n"
     ]
    }
   ],
   "source": [
    "# add PCA-filtered data of original and baseline-corrected values\n",
    "b = addFilteredDataE(a, 'ch1_bc', comps=3)\n",
    "b = addFilteredDataE(b, 'ECG_ch1', comps=3)"
   ]
  },
  {
   "cell_type": "code",
   "execution_count": 14,
   "id": "c4225bfb-3a72-4214-8fd2-11962bc799d5",
   "metadata": {},
   "outputs": [
    {
     "name": "stderr",
     "output_type": "stream",
     "text": [
      "100%|███████████████████████████████████████████████████████████████████████████████████████████████| 39/39 [00:23<00:00,  1.63it/s]\n",
      "100%|█████████████████████████████████████████████████████████████████████████████████████████████| 147/147 [01:33<00:00,  1.58it/s]\n",
      "100%|███████████████████████████████████████████████████████████████████████████████████████████████| 35/35 [00:21<00:00,  1.65it/s]\n"
     ]
    }
   ],
   "source": [
    "# determine position of pacing start\n",
    "pacingStart = b.query('Las_peaks == 1').index[0]\n",
    "# -//- pacing end\n",
    "pacingEnd = b.query('Las_peaks == 1').index[-1]\n",
    "\n",
    "# small function for processing complex shape\n",
    "def process_df(bc):\n",
    "    bc['RRN'] = 0\n",
    "    bc['relJ'] = np.nan\n",
    "    bs = bc.astype({'relJ': 'float'})\n",
    "    rrn = 0\n",
    "    for j in tqdm(bc.query('ECG_peaks == 1').index):\n",
    "        rrn += 1\n",
    "        for i in range(-1000,1000):\n",
    "            if j+i <= bc.index[-1] and j+i >= bc.index[0]:\n",
    "                bc.loc[j+i, 'RRN'] = rrn\n",
    "                bc.loc[j+i, 'relJ'] = i/1e4\n",
    "\n",
    "bc = b[:pacingStart].copy()\n",
    "process_df(bc)\n",
    "\n",
    "mc = b[pacingStart:pacingEnd].copy()\n",
    "process_df(mc)\n",
    "\n",
    "ec = b[pacingEnd:].copy()\n",
    "process_df(ec)"
   ]
  },
  {
   "cell_type": "code",
   "execution_count": 15,
   "id": "b3032ae2-8b1a-4100-bfc0-f98692b2895c",
   "metadata": {},
   "outputs": [
    {
     "data": {
      "text/plain": [
       "Index(['Time_s', 'Laser_V', 'ECG_ch1', 'Las_peaks', 'ECG_peaks', 'ch1_bc',\n",
       "       'ch1_bc_dns', 'ECG_ch1_dns', 'RRN', 'relJ'],\n",
       "      dtype='object')"
      ]
     },
     "execution_count": 15,
     "metadata": {},
     "output_type": "execute_result"
    }
   ],
   "source": [
    "bc.columns"
   ]
  },
  {
   "cell_type": "code",
   "execution_count": 16,
   "id": "6f49dd5f-0c15-4006-b7bd-f6fc456a06ec",
   "metadata": {},
   "outputs": [],
   "source": [
    "# reduce memory\n",
    "bc.drop(columns=['Time_s',\t'Laser_V', \t'ECG_ch1', \t'Las_peaks', 'ECG_peaks', 'ch1_bc', 'ECG_ch1_dns'], inplace=True)\n",
    "mc.drop(columns=['Time_s',\t'Laser_V', \t'ECG_ch1', \t'Las_peaks', 'ECG_peaks', 'ch1_bc', 'ECG_ch1_dns'], inplace=True)\n",
    "ec.drop(columns=['Time_s',\t'Laser_V', \t'ECG_ch1', \t'Las_peaks', 'ECG_peaks', 'ch1_bc', 'ECG_ch1_dns'], inplace=True)"
   ]
  },
  {
   "cell_type": "markdown",
   "id": "f2ce3ebf-5eab-4a8e-ab4d-f7a4f9291430",
   "metadata": {},
   "source": [
    "## Plot averaged complex structures"
   ]
  },
  {
   "cell_type": "code",
   "execution_count": 19,
   "id": "40b80d3f-f19c-4cc3-9ddc-06457caa0b62",
   "metadata": {},
   "outputs": [
    {
     "data": {
      "image/png": "[encoded data removed]",
      "text/plain": [
       "<Figure size 640x480 with 1 Axes>"
      ]
     },
     "metadata": {},
     "output_type": "display_data"
    }
   ],
   "source": [
    "%matplotlib inline\n",
    "# before pacing\n",
    "sns.lineplot(data=bc.query('RRN > 0'), x='relJ', y='ch1_bc_dns')\n",
    "# during pacing\n",
    "sns.lineplot(data=mc.query('RRN > 0'), x='relJ', y='ch1_bc_dns')\n",
    "# after pacing\n",
    "sns.lineplot(data=ec.query('RRN > 0'), x='relJ', y='ch1_bc_dns')\n",
    "plt.show()"
   ]
  }
 ],
 "metadata": {
  "kernelspec": {
   "display_name": "venv-ecg",
   "language": "python",
   "name": "venv-ecg"
  },
  "language_info": {
   "codemirror_mode": {
    "name": "ipython",
    "version": 3
   },
   "file_extension": ".py",
   "mimetype": "text/x-python",
   "name": "python",
   "nbconvert_exporter": "python",
   "pygments_lexer": "ipython3",
   "version": "3.11.2"
  }
 },
 "nbformat": 4,
 "nbformat_minor": 5
}
